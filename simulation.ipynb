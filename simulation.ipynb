{
 "cells": [
  {
   "cell_type": "code",
   "execution_count": 3,
   "metadata": {},
   "outputs": [],
   "source": [
    "import pandas as pd\n",
    "import numpy as np"
   ]
  },
  {
   "cell_type": "markdown",
   "metadata": {},
   "source": [
    "# 1. How likely is it that you roll doubles when rolling two dice?"
   ]
  },
  {
   "cell_type": "code",
   "execution_count": 6,
   "metadata": {},
   "outputs": [],
   "source": [
    "#outcomes = [1, 2, 3, 4, 5, 6]\n",
    "#\n",
    "#n_simulations = 1_000_000\n",
    "#n_trials = 2\n",
    "#\n",
    "#rolls = np.random.choice(outcomes, size=(n_simulations, n_trials))"
   ]
  },
  {
   "cell_type": "code",
   "execution_count": 14,
   "metadata": {},
   "outputs": [],
   "source": [
    "first_roll = np.random.choice([1, 2, 3, 4, 5, 6], size=1_000_000)\n",
    "second_roll = np.random.choice([1, 2, 3, 4, 5, 6], size=1_000_000)"
   ]
  },
  {
   "cell_type": "code",
   "execution_count": 21,
   "metadata": {},
   "outputs": [
    {
     "data": {
      "text/plain": [
       "array([False,  True, False, ..., False, False, False])"
      ]
     },
     "execution_count": 21,
     "metadata": {},
     "output_type": "execute_result"
    }
   ],
   "source": [
    "id_of_rolls = first_roll / second_roll == 1\n",
    "\n",
    "#(id(outcomes[0]) == id(outcomes[1])).mean()\n",
    "id_of_rolls"
   ]
  },
  {
   "cell_type": "code",
   "execution_count": 22,
   "metadata": {},
   "outputs": [
    {
     "data": {
      "text/plain": [
       "0.166674"
      ]
     },
     "execution_count": 22,
     "metadata": {},
     "output_type": "execute_result"
    }
   ],
   "source": [
    "id_of_rolls.mean()"
   ]
  },
  {
   "cell_type": "markdown",
   "metadata": {},
   "source": [
    "# 2. If you flip 8 coins, what is the probability of getting exactly 3 heads? "
   ]
  },
  {
   "cell_type": "code",
   "execution_count": 25,
   "metadata": {},
   "outputs": [],
   "source": [
    "outcomes = [1, 0]\n",
    "\n",
    "n_simulations = 1_000_000\n",
    "n_trials = 8\n",
    "\n",
    "flips = np.random.choice(outcomes, size=(n_simulations, n_trials))"
   ]
  },
  {
   "cell_type": "code",
   "execution_count": 26,
   "metadata": {},
   "outputs": [
    {
     "data": {
      "text/plain": [
       "0.219087"
      ]
     },
     "execution_count": 26,
     "metadata": {},
     "output_type": "execute_result"
    }
   ],
   "source": [
    "num_of_heads = flips.sum(axis=1)\n",
    "(num_of_heads == 3).mean()"
   ]
  },
  {
   "cell_type": "markdown",
   "metadata": {},
   "source": [
    "## 2a. What is the probability of getting more than 3 heads?"
   ]
  },
  {
   "cell_type": "code",
   "execution_count": 27,
   "metadata": {},
   "outputs": [
    {
     "data": {
      "text/plain": [
       "0.636353"
      ]
     },
     "execution_count": 27,
     "metadata": {},
     "output_type": "execute_result"
    }
   ],
   "source": [
    "(num_of_heads > 3).mean()"
   ]
  },
  {
   "cell_type": "markdown",
   "metadata": {},
   "source": [
    "# 3. There are approximitely 3 web development cohorts for every 1 data science cohort at Codeup. \n",
    "## Assuming that Codeup randomly selects an alumni to put on a billboard:\n",
    "- what are the odds that the two billboards I drive past both have data science students on them?"
   ]
  },
  {
   "cell_type": "code",
   "execution_count": 176,
   "metadata": {},
   "outputs": [
    {
     "data": {
      "text/plain": [
       "array([[0, 1],\n",
       "       [1, 0],\n",
       "       [1, 0],\n",
       "       ...,\n",
       "       [0, 0],\n",
       "       [0, 1],\n",
       "       [0, 0]])"
      ]
     },
     "execution_count": 176,
     "metadata": {},
     "output_type": "execute_result"
    }
   ],
   "source": [
    "#1=DS, 0=WD\n",
    "outcomes = [1, 0]\n",
    "\n",
    "drive_by = np.random.choice(outcomes, size=(10_000, 2), p=[0.25, 0.75])\n",
    "drive_by"
   ]
  },
  {
   "cell_type": "code",
   "execution_count": 177,
   "metadata": {},
   "outputs": [],
   "source": [
    "num_of_ds = drive_by.sum(axis=1)"
   ]
  },
  {
   "cell_type": "code",
   "execution_count": 178,
   "metadata": {},
   "outputs": [
    {
     "data": {
      "text/plain": [
       "0.0624"
      ]
     },
     "execution_count": 178,
     "metadata": {},
     "output_type": "execute_result"
    }
   ],
   "source": [
    "(num_of_ds == 2).mean()"
   ]
  },
  {
   "cell_type": "markdown",
   "metadata": {},
   "source": [
    "# 4. Codeup students buy, on average, 3 poptart packages (+- 1.5) a day from the snack vending machine. \n",
    "## If on monday the machine is restocked with 17 poptart packages: \n",
    "- how likely is it that I will be able to buy some poptarts on Friday afternoon?"
   ]
  },
  {
   "cell_type": "code",
   "execution_count": 185,
   "metadata": {},
   "outputs": [
    {
     "data": {
      "text/plain": [
       "array([[ 4.8999515 ,  4.53320425,  3.98688021,  3.00611441,  3.28541107],\n",
       "       [-0.38833458,  0.40179285,  1.19544275,  3.03551767,  5.88872867],\n",
       "       [ 4.25592128,  5.16432527,  4.71142888,  1.85579536,  1.97277883],\n",
       "       ...,\n",
       "       [ 3.78412293,  5.91936094,  2.43538261,  2.25622927,  3.96572623],\n",
       "       [ 4.60553521,  3.2427174 ,  3.08101299,  5.69798514,  4.11771941],\n",
       "       [ 2.78987651,  1.76462504,  5.83643011,  0.06177244,  5.02321394]])"
      ]
     },
     "execution_count": 185,
     "metadata": {},
     "output_type": "execute_result"
    }
   ],
   "source": [
    "poptart_left = np.random.normal(3, 1.5, size=(1_000_000, 5))\n",
    "poptart_left"
   ]
  },
  {
   "cell_type": "code",
   "execution_count": 188,
   "metadata": {},
   "outputs": [],
   "source": [
    "#num_left = 17 - poptart_left.sum(axis=1)\n",
    "poptarts_left = (poptart_left.sum(axis=1))"
   ]
  },
  {
   "cell_type": "code",
   "execution_count": 189,
   "metadata": {},
   "outputs": [
    {
     "data": {
      "text/plain": [
       "0.724445"
      ]
     },
     "execution_count": 189,
     "metadata": {},
     "output_type": "execute_result"
    }
   ],
   "source": [
    "#(num_left >= 1).mean()\n",
    "(poptarts_left < 17).mean()"
   ]
  },
  {
   "cell_type": "markdown",
   "metadata": {},
   "source": [
    "# 5. Compare Heights\n",
    "- Men have an average height of 178 cm and standard deviation of 8cm.\n",
    "- Women have a mean of 170, sd = 6cm.\n",
    "## If a man and woman are chosen at random, P(woman taller than man)?"
   ]
  },
  {
   "cell_type": "code",
   "execution_count": 46,
   "metadata": {},
   "outputs": [],
   "source": [
    "males = np.random.normal(178, 8, size=(1_000_000, 2))\n",
    "females = np.random.normal(170, 6, size=(1_000_000, 2))"
   ]
  },
  {
   "cell_type": "code",
   "execution_count": 42,
   "metadata": {},
   "outputs": [
    {
     "data": {
      "text/plain": [
       "0.211692"
      ]
     },
     "execution_count": 42,
     "metadata": {},
     "output_type": "execute_result"
    }
   ],
   "source": [
    "(females > males).mean()"
   ]
  },
  {
   "cell_type": "markdown",
   "metadata": {},
   "source": [
    "# 6. When installing anaconda on a student's computer, there's a 1 in 250 chance that the download is corrupted and the installation fails. \n",
    "# What are the odds that after having 50 students download anaconda, no one has an installation issue? "
   ]
  },
  {
   "cell_type": "code",
   "execution_count": 108,
   "metadata": {},
   "outputs": [
    {
     "data": {
      "text/plain": [
       "array([[1, 1, 1, ..., 1, 1, 1],\n",
       "       [1, 1, 1, ..., 1, 1, 1],\n",
       "       [1, 1, 1, ..., 1, 1, 1],\n",
       "       ...,\n",
       "       [1, 1, 1, ..., 1, 1, 1],\n",
       "       [1, 1, 1, ..., 1, 1, 1],\n",
       "       [1, 1, 1, ..., 1, 1, 1]])"
      ]
     },
     "execution_count": 108,
     "metadata": {},
     "output_type": "execute_result"
    }
   ],
   "source": [
    "#anaconda_50 = np.random.binomial(50, .004, 1_000_000)\n",
    "\n",
    "#1=success, 0= failure\n",
    "outcomes = [1, 0]\n",
    "\n",
    "anaconda_50 = np.random.choice(outcomes, size=(100_000, 50), p=[0.996, 0.004])\n",
    "anaconda_50"
   ]
  },
  {
   "cell_type": "code",
   "execution_count": 109,
   "metadata": {},
   "outputs": [
    {
     "data": {
      "text/plain": [
       "0.81704"
      ]
     },
     "execution_count": 109,
     "metadata": {},
     "output_type": "execute_result"
    }
   ],
   "source": [
    "#(anaconda_50 == 0).mean()\n",
    "anaconda_50 = anaconda_50.sum(axis=1)\n",
    "(anaconda_50 == 50).mean()"
   ]
  },
  {
   "cell_type": "code",
   "execution_count": 57,
   "metadata": {},
   "outputs": [
    {
     "data": {
      "text/plain": [
       "array([1, 2, 0, ..., 0, 2, 0])"
      ]
     },
     "execution_count": 57,
     "metadata": {},
     "output_type": "execute_result"
    }
   ],
   "source": [
    "#drill_prob = (np.random.binomial(9, 0.1, 20000))\n",
    "#drill_prob"
   ]
  },
  {
   "cell_type": "code",
   "execution_count": 65,
   "metadata": {},
   "outputs": [
    {
     "data": {
      "text/plain": [
       "0.3909"
      ]
     },
     "execution_count": 65,
     "metadata": {},
     "output_type": "execute_result"
    }
   ],
   "source": [
    "#(drill_prob == 0).mean()"
   ]
  },
  {
   "cell_type": "markdown",
   "metadata": {},
   "source": [
    "## 6a. 100 students?"
   ]
  },
  {
   "cell_type": "code",
   "execution_count": 110,
   "metadata": {},
   "outputs": [
    {
     "data": {
      "text/plain": [
       "array([[1, 1, 1, ..., 1, 1, 1],\n",
       "       [1, 1, 1, ..., 1, 1, 1],\n",
       "       [1, 1, 1, ..., 1, 1, 1],\n",
       "       ...,\n",
       "       [1, 1, 1, ..., 1, 1, 1],\n",
       "       [1, 1, 1, ..., 1, 1, 1],\n",
       "       [1, 1, 1, ..., 1, 1, 1]])"
      ]
     },
     "execution_count": 110,
     "metadata": {},
     "output_type": "execute_result"
    }
   ],
   "source": [
    "#anaconda_100 = np.random.binomial(100, .004, 1_000_000)\n",
    "\n",
    "#1=success, 0= failure\n",
    "outcomes = [1, 0]\n",
    "\n",
    "anaconda_100 = np.random.choice(outcomes, size=(100_000, 100), p=[0.996, 0.004])\n",
    "anaconda_100"
   ]
  },
  {
   "cell_type": "code",
   "execution_count": 111,
   "metadata": {},
   "outputs": [
    {
     "data": {
      "text/plain": [
       "0.66915"
      ]
     },
     "execution_count": 111,
     "metadata": {},
     "output_type": "execute_result"
    }
   ],
   "source": [
    "#(anaconda_100 == 0).mean()\n",
    "\n",
    "anaconda_100 = anaconda_100.sum(axis=1)\n",
    "(anaconda_100 == 100).mean()"
   ]
  },
  {
   "cell_type": "markdown",
   "metadata": {},
   "source": [
    "## 6b. What is the probability that we observe an installation issue within the first 150 students that download anaconda?"
   ]
  },
  {
   "cell_type": "code",
   "execution_count": 77,
   "metadata": {},
   "outputs": [],
   "source": [
    "#anaconda_150 = np.random.binomial(150, .996, 1_000_000)"
   ]
  },
  {
   "cell_type": "code",
   "execution_count": 78,
   "metadata": {},
   "outputs": [
    {
     "data": {
      "text/plain": [
       "0.0"
      ]
     },
     "execution_count": 78,
     "metadata": {},
     "output_type": "execute_result"
    }
   ],
   "source": [
    "#(anaconda_150 == 0).mean()"
   ]
  },
  {
   "cell_type": "code",
   "execution_count": 122,
   "metadata": {},
   "outputs": [
    {
     "data": {
      "text/plain": [
       "array([[0, 0, 0, ..., 0, 0, 0],\n",
       "       [0, 0, 0, ..., 0, 0, 0],\n",
       "       [0, 0, 0, ..., 0, 0, 0],\n",
       "       ...,\n",
       "       [0, 0, 0, ..., 0, 0, 0],\n",
       "       [0, 0, 0, ..., 0, 0, 0],\n",
       "       [0, 0, 0, ..., 0, 0, 0]])"
      ]
     },
     "execution_count": 122,
     "metadata": {},
     "output_type": "execute_result"
    }
   ],
   "source": [
    "#1=failure, 0= success\n",
    "outcomes = [1, 0]\n",
    "\n",
    "anaconda_150 = np.random.choice(outcomes, size=(100_000, 150), p=[0.004, 0.996])\n",
    "anaconda_150"
   ]
  },
  {
   "cell_type": "code",
   "execution_count": 123,
   "metadata": {},
   "outputs": [
    {
     "data": {
      "text/plain": [
       "0.44838"
      ]
     },
     "execution_count": 123,
     "metadata": {},
     "output_type": "execute_result"
    }
   ],
   "source": [
    "anaconda_150 = anaconda_150.sum(axis=1)\n",
    "(anaconda_150 > 0).mean()"
   ]
  },
  {
   "cell_type": "markdown",
   "metadata": {},
   "source": [
    "## 6c. How likely is it that 450 students all download anaconda without an issue?"
   ]
  },
  {
   "cell_type": "code",
   "execution_count": 79,
   "metadata": {},
   "outputs": [],
   "source": [
    "#anaconda_450 = np.random.binomial(450, .004, 1_000_000)"
   ]
  },
  {
   "cell_type": "code",
   "execution_count": 80,
   "metadata": {},
   "outputs": [
    {
     "data": {
      "text/plain": [
       "0.165212"
      ]
     },
     "execution_count": 80,
     "metadata": {},
     "output_type": "execute_result"
    }
   ],
   "source": [
    "#(anaconda_450 == 0).mean()"
   ]
  },
  {
   "cell_type": "code",
   "execution_count": 124,
   "metadata": {},
   "outputs": [
    {
     "data": {
      "text/plain": [
       "array([[1, 1, 1, ..., 1, 1, 1],\n",
       "       [1, 1, 1, ..., 1, 1, 1],\n",
       "       [1, 1, 1, ..., 1, 1, 1],\n",
       "       ...,\n",
       "       [1, 1, 1, ..., 1, 1, 1],\n",
       "       [1, 1, 1, ..., 1, 1, 1],\n",
       "       [1, 1, 1, ..., 1, 1, 1]])"
      ]
     },
     "execution_count": 124,
     "metadata": {},
     "output_type": "execute_result"
    }
   ],
   "source": [
    "#1=success, 0= failure\n",
    "outcomes = [1, 0]\n",
    "\n",
    "anaconda_450 = np.random.choice(outcomes, size=(100_000, 450), p=[0.996, 0.004])\n",
    "anaconda_450"
   ]
  },
  {
   "cell_type": "code",
   "execution_count": 125,
   "metadata": {},
   "outputs": [
    {
     "data": {
      "text/plain": [
       "0.16538"
      ]
     },
     "execution_count": 125,
     "metadata": {},
     "output_type": "execute_result"
    }
   ],
   "source": [
    "anaconda_450 = anaconda_450.sum(axis=1)\n",
    "(anaconda_450 == 450).mean()"
   ]
  },
  {
   "cell_type": "markdown",
   "metadata": {},
   "source": [
    "# 7. There's a 70% chance on any given day that there will be at least one food truck at Travis Park. However, you haven't seen a food truck there in 3 days. How *unlikely* is this?"
   ]
  },
  {
   "cell_type": "code",
   "execution_count": 85,
   "metadata": {},
   "outputs": [],
   "source": [
    "#foodtruck = np.random.binomial(3, .3, 1_000_000)"
   ]
  },
  {
   "cell_type": "code",
   "execution_count": 86,
   "metadata": {},
   "outputs": [
    {
     "data": {
      "text/plain": [
       "0.342106"
      ]
     },
     "execution_count": 86,
     "metadata": {},
     "output_type": "execute_result"
    }
   ],
   "source": [
    "#(foodtruck == 0).mean()"
   ]
  },
  {
   "cell_type": "code",
   "execution_count": 126,
   "metadata": {},
   "outputs": [
    {
     "data": {
      "text/plain": [
       "array([[1, 0, 1],\n",
       "       [1, 1, 0],\n",
       "       [1, 0, 1],\n",
       "       ...,\n",
       "       [0, 0, 0],\n",
       "       [0, 0, 0],\n",
       "       [0, 0, 0]])"
      ]
     },
     "execution_count": 126,
     "metadata": {},
     "output_type": "execute_result"
    }
   ],
   "source": [
    "#1=no food truck, 0= food truck\n",
    "outcomes = [1, 0]\n",
    "\n",
    "no_food_truck = np.random.choice(outcomes, size=(100_000, 3), p=[0.3, 0.7])\n",
    "no_food_truck"
   ]
  },
  {
   "cell_type": "code",
   "execution_count": 127,
   "metadata": {},
   "outputs": [
    {
     "data": {
      "text/plain": [
       "0.02745"
      ]
     },
     "execution_count": 127,
     "metadata": {},
     "output_type": "execute_result"
    }
   ],
   "source": [
    "no_food_truck = no_food_truck.sum(axis=1)\n",
    "(no_food_truck == 3).mean()"
   ]
  },
  {
   "cell_type": "markdown",
   "metadata": {},
   "source": [
    "## 7a. How likely is it that a food truck will show up sometime this week?"
   ]
  },
  {
   "cell_type": "code",
   "execution_count": 91,
   "metadata": {},
   "outputs": [],
   "source": [
    "#foodt_wk = np.random.binomial(1, .3, 7)"
   ]
  },
  {
   "cell_type": "code",
   "execution_count": 92,
   "metadata": {},
   "outputs": [
    {
     "data": {
      "text/plain": [
       "0.8571428571428571"
      ]
     },
     "execution_count": 92,
     "metadata": {},
     "output_type": "execute_result"
    }
   ],
   "source": [
    "#(foodt_wk == 0).mean()"
   ]
  },
  {
   "cell_type": "code",
   "execution_count": 95,
   "metadata": {},
   "outputs": [],
   "source": [
    "#fdt_wk = np.random.binomial(7, .7, 7)"
   ]
  },
  {
   "cell_type": "code",
   "execution_count": 96,
   "metadata": {},
   "outputs": [
    {
     "data": {
      "text/plain": [
       "4.142857142857143"
      ]
     },
     "execution_count": 96,
     "metadata": {},
     "output_type": "execute_result"
    }
   ],
   "source": [
    "#(fdt_wk).mean()"
   ]
  },
  {
   "cell_type": "code",
   "execution_count": 97,
   "metadata": {},
   "outputs": [],
   "source": [
    "#from scipy.stats import binom"
   ]
  },
  {
   "cell_type": "code",
   "execution_count": 100,
   "metadata": {},
   "outputs": [
    {
     "data": {
      "text/plain": [
       "0.0035721000000000025"
      ]
     },
     "execution_count": 100,
     "metadata": {},
     "output_type": "execute_result"
    }
   ],
   "source": [
    "#binom.pmf(k = 1, n = 7, p = .7)"
   ]
  },
  {
   "cell_type": "code",
   "execution_count": 190,
   "metadata": {},
   "outputs": [
    {
     "data": {
      "text/plain": [
       "array([[1, 1],\n",
       "       [0, 1],\n",
       "       [0, 0],\n",
       "       ...,\n",
       "       [1, 1],\n",
       "       [1, 1],\n",
       "       [1, 1]])"
      ]
     },
     "execution_count": 190,
     "metadata": {},
     "output_type": "execute_result"
    }
   ],
   "source": [
    "#1=food truck, 0= no food truck\n",
    "outcomes = [1, 0]\n",
    "\n",
    "food_truck = np.random.choice(outcomes, size=(100_000, 2), p=[0.7, 0.3])\n",
    "food_truck"
   ]
  },
  {
   "cell_type": "code",
   "execution_count": 191,
   "metadata": {},
   "outputs": [
    {
     "data": {
      "text/plain": [
       "0.9098"
      ]
     },
     "execution_count": 191,
     "metadata": {},
     "output_type": "execute_result"
    }
   ],
   "source": [
    "food_truck = food_truck.sum(axis=1)\n",
    "(food_truck >= 1).mean()"
   ]
  },
  {
   "cell_type": "markdown",
   "metadata": {},
   "source": [
    "# 8. If 23 people are in the same room, what are the odds that two of them share a birthday? "
   ]
  },
  {
   "cell_type": "code",
   "execution_count": 133,
   "metadata": {},
   "outputs": [
    {
     "data": {
      "text/plain": [
       "0.4995228459634194"
      ]
     },
     "execution_count": 133,
     "metadata": {},
     "output_type": "execute_result"
    }
   ],
   "source": [
    "d = np.power((364/365), ((23 * 22)/2))\n",
    "d"
   ]
  },
  {
   "cell_type": "code",
   "execution_count": 192,
   "metadata": {},
   "outputs": [
    {
     "data": {
      "text/plain": [
       "array([[ 39,  82,  23, ...,  68, 313,  12],\n",
       "       [350, 258, 177, ..., 255,  10, 239],\n",
       "       [ 75, 322, 224, ..., 342, 246, 215],\n",
       "       ...,\n",
       "       [206, 287,  71, ..., 219,  42, 200],\n",
       "       [245,  28, 203, ..., 112,  88,  51],\n",
       "       [363, 153, 112, ..., 142, 226, 111]])"
      ]
     },
     "execution_count": 192,
     "metadata": {},
     "output_type": "execute_result"
    }
   ],
   "source": [
    "#1=same birthday, 0= different birthday\n",
    "outcomes = range(0, 365)\n",
    "\n",
    "same_bday = np.random.choice(outcomes, size=(1_000_000, 23))\n",
    "same_bday #ea reps a day on the calendar"
   ]
  },
  {
   "cell_type": "code",
   "execution_count": 196,
   "metadata": {},
   "outputs": [],
   "source": [
    "same_bday23 = [len(np.unique(same_bday[n])) for n in range(0, 1_000_000-1) if len(np.unique(same_bday[n]) < 23)]"
   ]
  },
  {
   "cell_type": "code",
   "execution_count": 175,
   "metadata": {},
   "outputs": [
    {
     "data": {
      "text/plain": [
       "[1,\n",
       " 2,\n",
       " 3,\n",
       " 4,\n",
       " 5,\n",
       " 6,\n",
       " 7,\n",
       " 8,\n",
       " 9,\n",
       " 10,\n",
       " 11,\n",
       " 12,\n",
       " 13,\n",
       " 14,\n",
       " 15,\n",
       " 16,\n",
       " 17,\n",
       " 18,\n",
       " 19,\n",
       " 20,\n",
       " 21,\n",
       " 22,\n",
       " 23,\n",
       " 24,\n",
       " 25,\n",
       " 26,\n",
       " 27,\n",
       " 28,\n",
       " 29,\n",
       " 30,\n",
       " 31,\n",
       " 32,\n",
       " 33,\n",
       " 34,\n",
       " 35,\n",
       " 36,\n",
       " 37,\n",
       " 38,\n",
       " 39,\n",
       " 40,\n",
       " 41,\n",
       " 42,\n",
       " 43,\n",
       " 44,\n",
       " 45,\n",
       " 46,\n",
       " 47,\n",
       " 48,\n",
       " 49,\n",
       " 50,\n",
       " 51,\n",
       " 52,\n",
       " 53,\n",
       " 54,\n",
       " 55,\n",
       " 56,\n",
       " 57,\n",
       " 58,\n",
       " 59,\n",
       " 60,\n",
       " 61,\n",
       " 62,\n",
       " 63,\n",
       " 64,\n",
       " 65,\n",
       " 66,\n",
       " 67,\n",
       " 68,\n",
       " 69,\n",
       " 70,\n",
       " 71,\n",
       " 72,\n",
       " 73,\n",
       " 74,\n",
       " 75,\n",
       " 76,\n",
       " 77,\n",
       " 78,\n",
       " 79,\n",
       " 80,\n",
       " 81,\n",
       " 82,\n",
       " 83,\n",
       " 84,\n",
       " 85,\n",
       " 86,\n",
       " 87,\n",
       " 88,\n",
       " 89,\n",
       " 90,\n",
       " 91,\n",
       " 92,\n",
       " 93,\n",
       " 94,\n",
       " 95,\n",
       " 96,\n",
       " 97,\n",
       " 98,\n",
       " 99,\n",
       " 100,\n",
       " 101,\n",
       " 102,\n",
       " 103,\n",
       " 104,\n",
       " 105,\n",
       " 106,\n",
       " 107,\n",
       " 108,\n",
       " 109,\n",
       " 110,\n",
       " 111,\n",
       " 112,\n",
       " 113,\n",
       " 114,\n",
       " 115,\n",
       " 116,\n",
       " 117,\n",
       " 118,\n",
       " 119,\n",
       " 120,\n",
       " 121,\n",
       " 122,\n",
       " 123,\n",
       " 124,\n",
       " 125,\n",
       " 126,\n",
       " 127,\n",
       " 128,\n",
       " 129,\n",
       " 130,\n",
       " 131,\n",
       " 132,\n",
       " 133,\n",
       " 134,\n",
       " 135,\n",
       " 136,\n",
       " 137,\n",
       " 138,\n",
       " 139,\n",
       " 140,\n",
       " 141,\n",
       " 142,\n",
       " 143,\n",
       " 144,\n",
       " 145,\n",
       " 146,\n",
       " 147,\n",
       " 148,\n",
       " 149,\n",
       " 150,\n",
       " 151,\n",
       " 152,\n",
       " 153,\n",
       " 154,\n",
       " 155,\n",
       " 156,\n",
       " 157,\n",
       " 158,\n",
       " 159,\n",
       " 160,\n",
       " 161,\n",
       " 162,\n",
       " 163,\n",
       " 164,\n",
       " 165,\n",
       " 166,\n",
       " 167,\n",
       " 168,\n",
       " 169,\n",
       " 170,\n",
       " 171,\n",
       " 172,\n",
       " 173,\n",
       " 174,\n",
       " 175,\n",
       " 176,\n",
       " 177,\n",
       " 178,\n",
       " 179,\n",
       " 180,\n",
       " 181,\n",
       " 182,\n",
       " 183,\n",
       " 184,\n",
       " 185,\n",
       " 186,\n",
       " 187,\n",
       " 188,\n",
       " 189,\n",
       " 190,\n",
       " 191,\n",
       " 192,\n",
       " 193,\n",
       " 194,\n",
       " 195,\n",
       " 196,\n",
       " 197,\n",
       " 198,\n",
       " 199,\n",
       " 200,\n",
       " 201,\n",
       " 202,\n",
       " 203,\n",
       " 204,\n",
       " 205,\n",
       " 206,\n",
       " 207,\n",
       " 208,\n",
       " 209,\n",
       " 210,\n",
       " 211,\n",
       " 212,\n",
       " 213,\n",
       " 214,\n",
       " 215,\n",
       " 216,\n",
       " 217,\n",
       " 218,\n",
       " 219,\n",
       " 220,\n",
       " 221,\n",
       " 222,\n",
       " 223,\n",
       " 224,\n",
       " 225,\n",
       " 226,\n",
       " 227,\n",
       " 228,\n",
       " 229,\n",
       " 230,\n",
       " 231,\n",
       " 232,\n",
       " 233,\n",
       " 234,\n",
       " 235,\n",
       " 236,\n",
       " 237,\n",
       " 238,\n",
       " 239,\n",
       " 240,\n",
       " 241,\n",
       " 242,\n",
       " 243,\n",
       " 244,\n",
       " 245,\n",
       " 246,\n",
       " 247,\n",
       " 248,\n",
       " 249,\n",
       " 250,\n",
       " 251,\n",
       " 252,\n",
       " 253,\n",
       " 254,\n",
       " 255,\n",
       " 256,\n",
       " 257,\n",
       " 258,\n",
       " 259,\n",
       " 260,\n",
       " 261,\n",
       " 262,\n",
       " 263,\n",
       " 264,\n",
       " 265,\n",
       " 266,\n",
       " 267,\n",
       " 268,\n",
       " 269,\n",
       " 270,\n",
       " 271,\n",
       " 272,\n",
       " 273,\n",
       " 274,\n",
       " 275,\n",
       " 276,\n",
       " 277,\n",
       " 278,\n",
       " 279,\n",
       " 280,\n",
       " 281,\n",
       " 282,\n",
       " 283,\n",
       " 284,\n",
       " 285,\n",
       " 286,\n",
       " 287,\n",
       " 288,\n",
       " 289,\n",
       " 290,\n",
       " 291,\n",
       " 292,\n",
       " 293,\n",
       " 294,\n",
       " 295,\n",
       " 296,\n",
       " 297,\n",
       " 298,\n",
       " 299,\n",
       " 300,\n",
       " 301,\n",
       " 302,\n",
       " 303,\n",
       " 304,\n",
       " 305,\n",
       " 306,\n",
       " 307,\n",
       " 308,\n",
       " 309,\n",
       " 310,\n",
       " 311,\n",
       " 312,\n",
       " 313,\n",
       " 314,\n",
       " 315,\n",
       " 316,\n",
       " 317,\n",
       " 318,\n",
       " 319,\n",
       " 320,\n",
       " 321,\n",
       " 322,\n",
       " 323,\n",
       " 324,\n",
       " 325,\n",
       " 326,\n",
       " 327,\n",
       " 328,\n",
       " 329,\n",
       " 330,\n",
       " 331,\n",
       " 332,\n",
       " 333,\n",
       " 334,\n",
       " 335,\n",
       " 336,\n",
       " 337,\n",
       " 338,\n",
       " 339,\n",
       " 340,\n",
       " 341,\n",
       " 342,\n",
       " 343,\n",
       " 344,\n",
       " 345,\n",
       " 346,\n",
       " 347,\n",
       " 348,\n",
       " 349,\n",
       " 350,\n",
       " 351,\n",
       " 352,\n",
       " 353,\n",
       " 354,\n",
       " 355,\n",
       " 356,\n",
       " 357,\n",
       " 358,\n",
       " 359,\n",
       " 360,\n",
       " 361,\n",
       " 362,\n",
       " 363,\n",
       " 364,\n",
       " 365]"
      ]
     },
     "execution_count": 175,
     "metadata": {},
     "output_type": "execute_result"
    }
   ],
   "source": [
    "days = [*range(1, 366, 1)]\n",
    "days"
   ]
  },
  {
   "cell_type": "code",
   "execution_count": 164,
   "metadata": {},
   "outputs": [
    {
     "data": {
      "text/plain": [
       "array([[303, 106,  12, ..., 333, 325,   7],\n",
       "       [291,  69,  68, ..., 336, 283,  41],\n",
       "       [151, 320, 267, ...,  52,  43,  83],\n",
       "       ...,\n",
       "       [334,  98, 316, ..., 274, 236, 141],\n",
       "       [184, 202,  29, ..., 360, 184, 147],\n",
       "       [ 25, 192, 183, ..., 334, 184, 179]])"
      ]
     },
     "execution_count": 164,
     "metadata": {},
     "output_type": "execute_result"
    }
   ],
   "source": [
    "same_bday1 = np.random.choice(days, size=(100_000, 23))\n",
    "same_bday1"
   ]
  },
  {
   "cell_type": "code",
   "execution_count": 166,
   "metadata": {},
   "outputs": [
    {
     "data": {
      "text/html": [
       "<div>\n",
       "<style scoped>\n",
       "    .dataframe tbody tr th:only-of-type {\n",
       "        vertical-align: middle;\n",
       "    }\n",
       "\n",
       "    .dataframe tbody tr th {\n",
       "        vertical-align: top;\n",
       "    }\n",
       "\n",
       "    .dataframe thead th {\n",
       "        text-align: right;\n",
       "    }\n",
       "</style>\n",
       "<table border=\"1\" class=\"dataframe\">\n",
       "  <thead>\n",
       "    <tr style=\"text-align: right;\">\n",
       "      <th></th>\n",
       "      <th>0</th>\n",
       "      <th>1</th>\n",
       "      <th>2</th>\n",
       "      <th>3</th>\n",
       "      <th>4</th>\n",
       "      <th>5</th>\n",
       "      <th>6</th>\n",
       "      <th>7</th>\n",
       "      <th>8</th>\n",
       "      <th>9</th>\n",
       "      <th>...</th>\n",
       "      <th>13</th>\n",
       "      <th>14</th>\n",
       "      <th>15</th>\n",
       "      <th>16</th>\n",
       "      <th>17</th>\n",
       "      <th>18</th>\n",
       "      <th>19</th>\n",
       "      <th>20</th>\n",
       "      <th>21</th>\n",
       "      <th>22</th>\n",
       "    </tr>\n",
       "  </thead>\n",
       "  <tbody>\n",
       "    <tr>\n",
       "      <th>0</th>\n",
       "      <td>303</td>\n",
       "      <td>106</td>\n",
       "      <td>12</td>\n",
       "      <td>291</td>\n",
       "      <td>294</td>\n",
       "      <td>361</td>\n",
       "      <td>222</td>\n",
       "      <td>112</td>\n",
       "      <td>306</td>\n",
       "      <td>306</td>\n",
       "      <td>...</td>\n",
       "      <td>205</td>\n",
       "      <td>284</td>\n",
       "      <td>326</td>\n",
       "      <td>199</td>\n",
       "      <td>304</td>\n",
       "      <td>209</td>\n",
       "      <td>311</td>\n",
       "      <td>333</td>\n",
       "      <td>325</td>\n",
       "      <td>7</td>\n",
       "    </tr>\n",
       "    <tr>\n",
       "      <th>1</th>\n",
       "      <td>291</td>\n",
       "      <td>69</td>\n",
       "      <td>68</td>\n",
       "      <td>9</td>\n",
       "      <td>231</td>\n",
       "      <td>265</td>\n",
       "      <td>19</td>\n",
       "      <td>202</td>\n",
       "      <td>63</td>\n",
       "      <td>61</td>\n",
       "      <td>...</td>\n",
       "      <td>336</td>\n",
       "      <td>58</td>\n",
       "      <td>221</td>\n",
       "      <td>90</td>\n",
       "      <td>81</td>\n",
       "      <td>354</td>\n",
       "      <td>108</td>\n",
       "      <td>336</td>\n",
       "      <td>283</td>\n",
       "      <td>41</td>\n",
       "    </tr>\n",
       "    <tr>\n",
       "      <th>2</th>\n",
       "      <td>151</td>\n",
       "      <td>320</td>\n",
       "      <td>267</td>\n",
       "      <td>136</td>\n",
       "      <td>240</td>\n",
       "      <td>55</td>\n",
       "      <td>298</td>\n",
       "      <td>87</td>\n",
       "      <td>267</td>\n",
       "      <td>319</td>\n",
       "      <td>...</td>\n",
       "      <td>176</td>\n",
       "      <td>132</td>\n",
       "      <td>356</td>\n",
       "      <td>14</td>\n",
       "      <td>326</td>\n",
       "      <td>105</td>\n",
       "      <td>323</td>\n",
       "      <td>52</td>\n",
       "      <td>43</td>\n",
       "      <td>83</td>\n",
       "    </tr>\n",
       "    <tr>\n",
       "      <th>3</th>\n",
       "      <td>3</td>\n",
       "      <td>303</td>\n",
       "      <td>159</td>\n",
       "      <td>149</td>\n",
       "      <td>358</td>\n",
       "      <td>186</td>\n",
       "      <td>40</td>\n",
       "      <td>228</td>\n",
       "      <td>108</td>\n",
       "      <td>255</td>\n",
       "      <td>...</td>\n",
       "      <td>55</td>\n",
       "      <td>81</td>\n",
       "      <td>5</td>\n",
       "      <td>21</td>\n",
       "      <td>20</td>\n",
       "      <td>175</td>\n",
       "      <td>349</td>\n",
       "      <td>280</td>\n",
       "      <td>184</td>\n",
       "      <td>271</td>\n",
       "    </tr>\n",
       "    <tr>\n",
       "      <th>4</th>\n",
       "      <td>85</td>\n",
       "      <td>300</td>\n",
       "      <td>14</td>\n",
       "      <td>105</td>\n",
       "      <td>267</td>\n",
       "      <td>110</td>\n",
       "      <td>318</td>\n",
       "      <td>164</td>\n",
       "      <td>195</td>\n",
       "      <td>134</td>\n",
       "      <td>...</td>\n",
       "      <td>57</td>\n",
       "      <td>217</td>\n",
       "      <td>5</td>\n",
       "      <td>89</td>\n",
       "      <td>171</td>\n",
       "      <td>246</td>\n",
       "      <td>309</td>\n",
       "      <td>132</td>\n",
       "      <td>5</td>\n",
       "      <td>282</td>\n",
       "    </tr>\n",
       "    <tr>\n",
       "      <th>...</th>\n",
       "      <td>...</td>\n",
       "      <td>...</td>\n",
       "      <td>...</td>\n",
       "      <td>...</td>\n",
       "      <td>...</td>\n",
       "      <td>...</td>\n",
       "      <td>...</td>\n",
       "      <td>...</td>\n",
       "      <td>...</td>\n",
       "      <td>...</td>\n",
       "      <td>...</td>\n",
       "      <td>...</td>\n",
       "      <td>...</td>\n",
       "      <td>...</td>\n",
       "      <td>...</td>\n",
       "      <td>...</td>\n",
       "      <td>...</td>\n",
       "      <td>...</td>\n",
       "      <td>...</td>\n",
       "      <td>...</td>\n",
       "      <td>...</td>\n",
       "    </tr>\n",
       "    <tr>\n",
       "      <th>99995</th>\n",
       "      <td>148</td>\n",
       "      <td>204</td>\n",
       "      <td>111</td>\n",
       "      <td>214</td>\n",
       "      <td>351</td>\n",
       "      <td>234</td>\n",
       "      <td>224</td>\n",
       "      <td>212</td>\n",
       "      <td>32</td>\n",
       "      <td>96</td>\n",
       "      <td>...</td>\n",
       "      <td>217</td>\n",
       "      <td>23</td>\n",
       "      <td>203</td>\n",
       "      <td>164</td>\n",
       "      <td>47</td>\n",
       "      <td>227</td>\n",
       "      <td>75</td>\n",
       "      <td>238</td>\n",
       "      <td>184</td>\n",
       "      <td>335</td>\n",
       "    </tr>\n",
       "    <tr>\n",
       "      <th>99996</th>\n",
       "      <td>57</td>\n",
       "      <td>172</td>\n",
       "      <td>236</td>\n",
       "      <td>289</td>\n",
       "      <td>322</td>\n",
       "      <td>78</td>\n",
       "      <td>169</td>\n",
       "      <td>236</td>\n",
       "      <td>57</td>\n",
       "      <td>242</td>\n",
       "      <td>...</td>\n",
       "      <td>193</td>\n",
       "      <td>271</td>\n",
       "      <td>35</td>\n",
       "      <td>90</td>\n",
       "      <td>7</td>\n",
       "      <td>29</td>\n",
       "      <td>317</td>\n",
       "      <td>225</td>\n",
       "      <td>273</td>\n",
       "      <td>63</td>\n",
       "    </tr>\n",
       "    <tr>\n",
       "      <th>99997</th>\n",
       "      <td>334</td>\n",
       "      <td>98</td>\n",
       "      <td>316</td>\n",
       "      <td>94</td>\n",
       "      <td>44</td>\n",
       "      <td>143</td>\n",
       "      <td>195</td>\n",
       "      <td>340</td>\n",
       "      <td>65</td>\n",
       "      <td>112</td>\n",
       "      <td>...</td>\n",
       "      <td>20</td>\n",
       "      <td>4</td>\n",
       "      <td>162</td>\n",
       "      <td>282</td>\n",
       "      <td>321</td>\n",
       "      <td>356</td>\n",
       "      <td>27</td>\n",
       "      <td>274</td>\n",
       "      <td>236</td>\n",
       "      <td>141</td>\n",
       "    </tr>\n",
       "    <tr>\n",
       "      <th>99998</th>\n",
       "      <td>184</td>\n",
       "      <td>202</td>\n",
       "      <td>29</td>\n",
       "      <td>55</td>\n",
       "      <td>252</td>\n",
       "      <td>232</td>\n",
       "      <td>288</td>\n",
       "      <td>109</td>\n",
       "      <td>174</td>\n",
       "      <td>354</td>\n",
       "      <td>...</td>\n",
       "      <td>219</td>\n",
       "      <td>8</td>\n",
       "      <td>80</td>\n",
       "      <td>111</td>\n",
       "      <td>34</td>\n",
       "      <td>8</td>\n",
       "      <td>117</td>\n",
       "      <td>360</td>\n",
       "      <td>184</td>\n",
       "      <td>147</td>\n",
       "    </tr>\n",
       "    <tr>\n",
       "      <th>99999</th>\n",
       "      <td>25</td>\n",
       "      <td>192</td>\n",
       "      <td>183</td>\n",
       "      <td>97</td>\n",
       "      <td>144</td>\n",
       "      <td>59</td>\n",
       "      <td>291</td>\n",
       "      <td>340</td>\n",
       "      <td>353</td>\n",
       "      <td>116</td>\n",
       "      <td>...</td>\n",
       "      <td>309</td>\n",
       "      <td>124</td>\n",
       "      <td>73</td>\n",
       "      <td>38</td>\n",
       "      <td>2</td>\n",
       "      <td>314</td>\n",
       "      <td>217</td>\n",
       "      <td>334</td>\n",
       "      <td>184</td>\n",
       "      <td>179</td>\n",
       "    </tr>\n",
       "  </tbody>\n",
       "</table>\n",
       "<p>100000 rows × 23 columns</p>\n",
       "</div>"
      ],
      "text/plain": [
       "        0    1    2    3    4    5    6    7    8    9   ...   13   14   15  \\\n",
       "0      303  106   12  291  294  361  222  112  306  306  ...  205  284  326   \n",
       "1      291   69   68    9  231  265   19  202   63   61  ...  336   58  221   \n",
       "2      151  320  267  136  240   55  298   87  267  319  ...  176  132  356   \n",
       "3        3  303  159  149  358  186   40  228  108  255  ...   55   81    5   \n",
       "4       85  300   14  105  267  110  318  164  195  134  ...   57  217    5   \n",
       "...    ...  ...  ...  ...  ...  ...  ...  ...  ...  ...  ...  ...  ...  ...   \n",
       "99995  148  204  111  214  351  234  224  212   32   96  ...  217   23  203   \n",
       "99996   57  172  236  289  322   78  169  236   57  242  ...  193  271   35   \n",
       "99997  334   98  316   94   44  143  195  340   65  112  ...   20    4  162   \n",
       "99998  184  202   29   55  252  232  288  109  174  354  ...  219    8   80   \n",
       "99999   25  192  183   97  144   59  291  340  353  116  ...  309  124   73   \n",
       "\n",
       "        16   17   18   19   20   21   22  \n",
       "0      199  304  209  311  333  325    7  \n",
       "1       90   81  354  108  336  283   41  \n",
       "2       14  326  105  323   52   43   83  \n",
       "3       21   20  175  349  280  184  271  \n",
       "4       89  171  246  309  132    5  282  \n",
       "...    ...  ...  ...  ...  ...  ...  ...  \n",
       "99995  164   47  227   75  238  184  335  \n",
       "99996   90    7   29  317  225  273   63  \n",
       "99997  282  321  356   27  274  236  141  \n",
       "99998  111   34    8  117  360  184  147  \n",
       "99999   38    2  314  217  334  184  179  \n",
       "\n",
       "[100000 rows x 23 columns]"
      ]
     },
     "execution_count": 166,
     "metadata": {},
     "output_type": "execute_result"
    }
   ],
   "source": [
    "df = pd.DataFrame(same_bday1)\n",
    "df"
   ]
  },
  {
   "cell_type": "code",
   "execution_count": 167,
   "metadata": {},
   "outputs": [
    {
     "data": {
      "text/plain": [
       "0        22\n",
       "1        22\n",
       "2        22\n",
       "3        23\n",
       "4        22\n",
       "         ..\n",
       "99995    23\n",
       "99996    21\n",
       "99997    23\n",
       "99998    21\n",
       "99999    23\n",
       "Length: 100000, dtype: int64"
      ]
     },
     "execution_count": 167,
     "metadata": {},
     "output_type": "execute_result"
    }
   ],
   "source": [
    "unibdays = pd.Series(df.nunique(axis=1)) \n",
    "unibdays"
   ]
  },
  {
   "cell_type": "code",
   "execution_count": 168,
   "metadata": {},
   "outputs": [
    {
     "data": {
      "text/plain": [
       "0.5098"
      ]
     },
     "execution_count": 168,
     "metadata": {},
     "output_type": "execute_result"
    }
   ],
   "source": [
    "(unibdays < 23).mean()"
   ]
  },
  {
   "cell_type": "markdown",
   "metadata": {},
   "source": [
    "## 8a. What if it's 20 people? "
   ]
  },
  {
   "cell_type": "code",
   "execution_count": null,
   "metadata": {},
   "outputs": [],
   "source": [
    "days = [*range(1, 366, 1)]"
   ]
  },
  {
   "cell_type": "code",
   "execution_count": 169,
   "metadata": {},
   "outputs": [
    {
     "data": {
      "text/plain": [
       "array([[247, 201,   4, ..., 363, 361, 360],\n",
       "       [316, 342, 175, ..., 165,  71, 347],\n",
       "       [216,  46,  79, ..., 256,  27,  13],\n",
       "       ...,\n",
       "       [361, 271, 108, ..., 200, 240, 143],\n",
       "       [130, 157, 181, ..., 351,  18,  22],\n",
       "       [ 85, 199, 166, ..., 134,   9, 315]])"
      ]
     },
     "execution_count": 169,
     "metadata": {},
     "output_type": "execute_result"
    }
   ],
   "source": [
    "same_bday20 = np.random.choice(days, size=(100_000, 20))\n",
    "same_bday20"
   ]
  },
  {
   "cell_type": "code",
   "execution_count": 170,
   "metadata": {},
   "outputs": [
    {
     "data": {
      "text/html": [
       "<div>\n",
       "<style scoped>\n",
       "    .dataframe tbody tr th:only-of-type {\n",
       "        vertical-align: middle;\n",
       "    }\n",
       "\n",
       "    .dataframe tbody tr th {\n",
       "        vertical-align: top;\n",
       "    }\n",
       "\n",
       "    .dataframe thead th {\n",
       "        text-align: right;\n",
       "    }\n",
       "</style>\n",
       "<table border=\"1\" class=\"dataframe\">\n",
       "  <thead>\n",
       "    <tr style=\"text-align: right;\">\n",
       "      <th></th>\n",
       "      <th>0</th>\n",
       "      <th>1</th>\n",
       "      <th>2</th>\n",
       "      <th>3</th>\n",
       "      <th>4</th>\n",
       "      <th>5</th>\n",
       "      <th>6</th>\n",
       "      <th>7</th>\n",
       "      <th>8</th>\n",
       "      <th>9</th>\n",
       "      <th>10</th>\n",
       "      <th>11</th>\n",
       "      <th>12</th>\n",
       "      <th>13</th>\n",
       "      <th>14</th>\n",
       "      <th>15</th>\n",
       "      <th>16</th>\n",
       "      <th>17</th>\n",
       "      <th>18</th>\n",
       "      <th>19</th>\n",
       "    </tr>\n",
       "  </thead>\n",
       "  <tbody>\n",
       "    <tr>\n",
       "      <th>0</th>\n",
       "      <td>247</td>\n",
       "      <td>201</td>\n",
       "      <td>4</td>\n",
       "      <td>145</td>\n",
       "      <td>115</td>\n",
       "      <td>107</td>\n",
       "      <td>148</td>\n",
       "      <td>173</td>\n",
       "      <td>122</td>\n",
       "      <td>141</td>\n",
       "      <td>337</td>\n",
       "      <td>199</td>\n",
       "      <td>11</td>\n",
       "      <td>28</td>\n",
       "      <td>353</td>\n",
       "      <td>289</td>\n",
       "      <td>88</td>\n",
       "      <td>363</td>\n",
       "      <td>361</td>\n",
       "      <td>360</td>\n",
       "    </tr>\n",
       "    <tr>\n",
       "      <th>1</th>\n",
       "      <td>316</td>\n",
       "      <td>342</td>\n",
       "      <td>175</td>\n",
       "      <td>240</td>\n",
       "      <td>93</td>\n",
       "      <td>43</td>\n",
       "      <td>58</td>\n",
       "      <td>78</td>\n",
       "      <td>206</td>\n",
       "      <td>348</td>\n",
       "      <td>97</td>\n",
       "      <td>214</td>\n",
       "      <td>198</td>\n",
       "      <td>339</td>\n",
       "      <td>61</td>\n",
       "      <td>213</td>\n",
       "      <td>279</td>\n",
       "      <td>165</td>\n",
       "      <td>71</td>\n",
       "      <td>347</td>\n",
       "    </tr>\n",
       "    <tr>\n",
       "      <th>2</th>\n",
       "      <td>216</td>\n",
       "      <td>46</td>\n",
       "      <td>79</td>\n",
       "      <td>73</td>\n",
       "      <td>308</td>\n",
       "      <td>175</td>\n",
       "      <td>130</td>\n",
       "      <td>239</td>\n",
       "      <td>214</td>\n",
       "      <td>60</td>\n",
       "      <td>148</td>\n",
       "      <td>76</td>\n",
       "      <td>206</td>\n",
       "      <td>304</td>\n",
       "      <td>138</td>\n",
       "      <td>224</td>\n",
       "      <td>126</td>\n",
       "      <td>256</td>\n",
       "      <td>27</td>\n",
       "      <td>13</td>\n",
       "    </tr>\n",
       "    <tr>\n",
       "      <th>3</th>\n",
       "      <td>300</td>\n",
       "      <td>246</td>\n",
       "      <td>345</td>\n",
       "      <td>305</td>\n",
       "      <td>320</td>\n",
       "      <td>264</td>\n",
       "      <td>248</td>\n",
       "      <td>93</td>\n",
       "      <td>146</td>\n",
       "      <td>303</td>\n",
       "      <td>134</td>\n",
       "      <td>73</td>\n",
       "      <td>299</td>\n",
       "      <td>260</td>\n",
       "      <td>195</td>\n",
       "      <td>313</td>\n",
       "      <td>237</td>\n",
       "      <td>50</td>\n",
       "      <td>70</td>\n",
       "      <td>122</td>\n",
       "    </tr>\n",
       "    <tr>\n",
       "      <th>4</th>\n",
       "      <td>43</td>\n",
       "      <td>334</td>\n",
       "      <td>225</td>\n",
       "      <td>26</td>\n",
       "      <td>225</td>\n",
       "      <td>284</td>\n",
       "      <td>248</td>\n",
       "      <td>278</td>\n",
       "      <td>177</td>\n",
       "      <td>147</td>\n",
       "      <td>354</td>\n",
       "      <td>313</td>\n",
       "      <td>263</td>\n",
       "      <td>331</td>\n",
       "      <td>152</td>\n",
       "      <td>318</td>\n",
       "      <td>84</td>\n",
       "      <td>139</td>\n",
       "      <td>74</td>\n",
       "      <td>339</td>\n",
       "    </tr>\n",
       "    <tr>\n",
       "      <th>...</th>\n",
       "      <td>...</td>\n",
       "      <td>...</td>\n",
       "      <td>...</td>\n",
       "      <td>...</td>\n",
       "      <td>...</td>\n",
       "      <td>...</td>\n",
       "      <td>...</td>\n",
       "      <td>...</td>\n",
       "      <td>...</td>\n",
       "      <td>...</td>\n",
       "      <td>...</td>\n",
       "      <td>...</td>\n",
       "      <td>...</td>\n",
       "      <td>...</td>\n",
       "      <td>...</td>\n",
       "      <td>...</td>\n",
       "      <td>...</td>\n",
       "      <td>...</td>\n",
       "      <td>...</td>\n",
       "      <td>...</td>\n",
       "    </tr>\n",
       "    <tr>\n",
       "      <th>99995</th>\n",
       "      <td>220</td>\n",
       "      <td>65</td>\n",
       "      <td>259</td>\n",
       "      <td>320</td>\n",
       "      <td>232</td>\n",
       "      <td>54</td>\n",
       "      <td>289</td>\n",
       "      <td>104</td>\n",
       "      <td>12</td>\n",
       "      <td>77</td>\n",
       "      <td>106</td>\n",
       "      <td>287</td>\n",
       "      <td>344</td>\n",
       "      <td>155</td>\n",
       "      <td>224</td>\n",
       "      <td>64</td>\n",
       "      <td>73</td>\n",
       "      <td>310</td>\n",
       "      <td>282</td>\n",
       "      <td>200</td>\n",
       "    </tr>\n",
       "    <tr>\n",
       "      <th>99996</th>\n",
       "      <td>294</td>\n",
       "      <td>163</td>\n",
       "      <td>68</td>\n",
       "      <td>342</td>\n",
       "      <td>59</td>\n",
       "      <td>217</td>\n",
       "      <td>43</td>\n",
       "      <td>340</td>\n",
       "      <td>324</td>\n",
       "      <td>39</td>\n",
       "      <td>344</td>\n",
       "      <td>115</td>\n",
       "      <td>73</td>\n",
       "      <td>280</td>\n",
       "      <td>214</td>\n",
       "      <td>185</td>\n",
       "      <td>19</td>\n",
       "      <td>83</td>\n",
       "      <td>204</td>\n",
       "      <td>275</td>\n",
       "    </tr>\n",
       "    <tr>\n",
       "      <th>99997</th>\n",
       "      <td>361</td>\n",
       "      <td>271</td>\n",
       "      <td>108</td>\n",
       "      <td>120</td>\n",
       "      <td>292</td>\n",
       "      <td>188</td>\n",
       "      <td>213</td>\n",
       "      <td>267</td>\n",
       "      <td>18</td>\n",
       "      <td>321</td>\n",
       "      <td>167</td>\n",
       "      <td>133</td>\n",
       "      <td>2</td>\n",
       "      <td>23</td>\n",
       "      <td>218</td>\n",
       "      <td>188</td>\n",
       "      <td>79</td>\n",
       "      <td>200</td>\n",
       "      <td>240</td>\n",
       "      <td>143</td>\n",
       "    </tr>\n",
       "    <tr>\n",
       "      <th>99998</th>\n",
       "      <td>130</td>\n",
       "      <td>157</td>\n",
       "      <td>181</td>\n",
       "      <td>164</td>\n",
       "      <td>285</td>\n",
       "      <td>327</td>\n",
       "      <td>203</td>\n",
       "      <td>348</td>\n",
       "      <td>108</td>\n",
       "      <td>139</td>\n",
       "      <td>42</td>\n",
       "      <td>283</td>\n",
       "      <td>90</td>\n",
       "      <td>50</td>\n",
       "      <td>74</td>\n",
       "      <td>289</td>\n",
       "      <td>160</td>\n",
       "      <td>351</td>\n",
       "      <td>18</td>\n",
       "      <td>22</td>\n",
       "    </tr>\n",
       "    <tr>\n",
       "      <th>99999</th>\n",
       "      <td>85</td>\n",
       "      <td>199</td>\n",
       "      <td>166</td>\n",
       "      <td>255</td>\n",
       "      <td>127</td>\n",
       "      <td>230</td>\n",
       "      <td>92</td>\n",
       "      <td>268</td>\n",
       "      <td>246</td>\n",
       "      <td>312</td>\n",
       "      <td>13</td>\n",
       "      <td>37</td>\n",
       "      <td>342</td>\n",
       "      <td>275</td>\n",
       "      <td>34</td>\n",
       "      <td>96</td>\n",
       "      <td>33</td>\n",
       "      <td>134</td>\n",
       "      <td>9</td>\n",
       "      <td>315</td>\n",
       "    </tr>\n",
       "  </tbody>\n",
       "</table>\n",
       "<p>100000 rows × 20 columns</p>\n",
       "</div>"
      ],
      "text/plain": [
       "        0    1    2    3    4    5    6    7    8    9    10   11   12   13  \\\n",
       "0      247  201    4  145  115  107  148  173  122  141  337  199   11   28   \n",
       "1      316  342  175  240   93   43   58   78  206  348   97  214  198  339   \n",
       "2      216   46   79   73  308  175  130  239  214   60  148   76  206  304   \n",
       "3      300  246  345  305  320  264  248   93  146  303  134   73  299  260   \n",
       "4       43  334  225   26  225  284  248  278  177  147  354  313  263  331   \n",
       "...    ...  ...  ...  ...  ...  ...  ...  ...  ...  ...  ...  ...  ...  ...   \n",
       "99995  220   65  259  320  232   54  289  104   12   77  106  287  344  155   \n",
       "99996  294  163   68  342   59  217   43  340  324   39  344  115   73  280   \n",
       "99997  361  271  108  120  292  188  213  267   18  321  167  133    2   23   \n",
       "99998  130  157  181  164  285  327  203  348  108  139   42  283   90   50   \n",
       "99999   85  199  166  255  127  230   92  268  246  312   13   37  342  275   \n",
       "\n",
       "        14   15   16   17   18   19  \n",
       "0      353  289   88  363  361  360  \n",
       "1       61  213  279  165   71  347  \n",
       "2      138  224  126  256   27   13  \n",
       "3      195  313  237   50   70  122  \n",
       "4      152  318   84  139   74  339  \n",
       "...    ...  ...  ...  ...  ...  ...  \n",
       "99995  224   64   73  310  282  200  \n",
       "99996  214  185   19   83  204  275  \n",
       "99997  218  188   79  200  240  143  \n",
       "99998   74  289  160  351   18   22  \n",
       "99999   34   96   33  134    9  315  \n",
       "\n",
       "[100000 rows x 20 columns]"
      ]
     },
     "execution_count": 170,
     "metadata": {},
     "output_type": "execute_result"
    }
   ],
   "source": [
    "df2 = pd.DataFrame(same_bday20)\n",
    "df2"
   ]
  },
  {
   "cell_type": "code",
   "execution_count": 173,
   "metadata": {},
   "outputs": [
    {
     "data": {
      "text/plain": [
       "0        20\n",
       "1        20\n",
       "2        20\n",
       "3        20\n",
       "4        19\n",
       "         ..\n",
       "99995    20\n",
       "99996    20\n",
       "99997    19\n",
       "99998    20\n",
       "99999    20\n",
       "Length: 100000, dtype: int64"
      ]
     },
     "execution_count": 173,
     "metadata": {},
     "output_type": "execute_result"
    }
   ],
   "source": [
    "unibdays20 = pd.Series(df2.nunique(axis=1)) \n",
    "unibdays20"
   ]
  },
  {
   "cell_type": "code",
   "execution_count": 174,
   "metadata": {},
   "outputs": [
    {
     "data": {
      "text/plain": [
       "0.41075"
      ]
     },
     "execution_count": 174,
     "metadata": {},
     "output_type": "execute_result"
    }
   ],
   "source": [
    "(unibdays20 < 20).mean()"
   ]
  },
  {
   "cell_type": "markdown",
   "metadata": {},
   "source": [
    "## 8b. 40?"
   ]
  },
  {
   "cell_type": "code",
   "execution_count": null,
   "metadata": {},
   "outputs": [],
   "source": [
    "days = [*range(1, 366, 1)]"
   ]
  },
  {
   "cell_type": "code",
   "execution_count": null,
   "metadata": {},
   "outputs": [],
   "source": [
    "same_bday40 = np.random.choice(days, size=(100_000, 40))\n",
    "same_bday40"
   ]
  },
  {
   "cell_type": "code",
   "execution_count": null,
   "metadata": {},
   "outputs": [],
   "source": [
    "df3 = pd.DataFrame(same_bday40)\n",
    "df3"
   ]
  },
  {
   "cell_type": "code",
   "execution_count": null,
   "metadata": {},
   "outputs": [],
   "source": [
    "unibdays40 = pd.Series(df3.nunique(axis=1)) \n",
    "unibdays40"
   ]
  },
  {
   "cell_type": "code",
   "execution_count": null,
   "metadata": {},
   "outputs": [],
   "source": [
    "(unibdays40 < 40).mean()"
   ]
  }
 ],
 "metadata": {
  "kernelspec": {
   "display_name": "Python 3",
   "language": "python",
   "name": "python3"
  },
  "language_info": {
   "codemirror_mode": {
    "name": "ipython",
    "version": 3
   },
   "file_extension": ".py",
   "mimetype": "text/x-python",
   "name": "python",
   "nbconvert_exporter": "python",
   "pygments_lexer": "ipython3",
   "version": "3.8.5"
  }
 },
 "nbformat": 4,
 "nbformat_minor": 4
}
